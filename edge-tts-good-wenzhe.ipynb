{
  "nbformat": 4,
  "nbformat_minor": 0,
  "metadata": {
    "colab": {
      "provenance": [],
      "authorship_tag": "ABX9TyNAQHyASy+R1Y1xvVJDYkhv",
      "include_colab_link": true
    },
    "kernelspec": {
      "name": "python3",
      "display_name": "Python 3"
    },
    "language_info": {
      "name": "python"
    }
  },
  "cells": [
    {
      "cell_type": "markdown",
      "metadata": {
        "id": "view-in-github",
        "colab_type": "text"
      },
      "source": [
        "<a href=\"https://colab.research.google.com/github/tivojn/edge-tts/blob/master/edge-tts-good-wenzhe.ipynb\" target=\"_parent\"><img src=\"https://colab.research.google.com/assets/colab-badge.svg\" alt=\"Open In Colab\"/></a>"
      ]
    },
    {
      "cell_type": "code",
      "execution_count": 6,
      "metadata": {
        "colab": {
          "base_uri": "https://localhost:8080/"
        },
        "id": "U64d5HNJ6630",
        "outputId": "63dcedfe-8436-42f3-ab86-92cd79d56dd0"
      },
      "outputs": [
        {
          "output_type": "stream",
          "name": "stdout",
          "text": [
            "Requirement already satisfied: edge_tts in /usr/local/lib/python3.10/dist-packages (6.1.8)\n",
            "Requirement already satisfied: aiohttp>=3.8.0 in /usr/local/lib/python3.10/dist-packages (from edge_tts) (3.8.5)\n",
            "Requirement already satisfied: certifi==2023.07.22 in /usr/local/lib/python3.10/dist-packages (from edge_tts) (2023.7.22)\n",
            "Requirement already satisfied: attrs>=17.3.0 in /usr/local/lib/python3.10/dist-packages (from aiohttp>=3.8.0->edge_tts) (23.1.0)\n",
            "Requirement already satisfied: charset-normalizer<4.0,>=2.0 in /usr/local/lib/python3.10/dist-packages (from aiohttp>=3.8.0->edge_tts) (3.2.0)\n",
            "Requirement already satisfied: multidict<7.0,>=4.5 in /usr/local/lib/python3.10/dist-packages (from aiohttp>=3.8.0->edge_tts) (6.0.4)\n",
            "Requirement already satisfied: async-timeout<5.0,>=4.0.0a3 in /usr/local/lib/python3.10/dist-packages (from aiohttp>=3.8.0->edge_tts) (4.0.3)\n",
            "Requirement already satisfied: yarl<2.0,>=1.0 in /usr/local/lib/python3.10/dist-packages (from aiohttp>=3.8.0->edge_tts) (1.9.2)\n",
            "Requirement already satisfied: frozenlist>=1.1.1 in /usr/local/lib/python3.10/dist-packages (from aiohttp>=3.8.0->edge_tts) (1.4.0)\n",
            "Requirement already satisfied: aiosignal>=1.1.2 in /usr/local/lib/python3.10/dist-packages (from aiohttp>=3.8.0->edge_tts) (1.3.1)\n",
            "Requirement already satisfied: idna>=2.0 in /usr/local/lib/python3.10/dist-packages (from yarl<2.0,>=1.0->aiohttp>=3.8.0->edge_tts) (3.4)\n",
            "Requirement already satisfied: nest-asyncio in /usr/local/lib/python3.10/dist-packages (1.5.7)\n"
          ]
        }
      ],
      "source": [
        "!pip install edge_tts\n",
        "!pip install nest-asyncio\n",
        "\n",
        "\"\"\"\n",
        "Basic example of edge_tts usage.\n",
        "\"\"\"\n",
        "\n",
        "import asyncio\n",
        "import nest_asyncio\n",
        "import edge_tts\n",
        "\n",
        "nest_asyncio.apply()  # Apply the nested asyncio fix for Jupyter environment\n",
        "\n",
        "TEXT = \"Hello World!\"\n",
        "VOICE = \"en-GB-SoniaNeural\"\n",
        "OUTPUT_FILE = \"test.mp3\"\n",
        "\n",
        "\n",
        "async def amain() -> None:\n",
        "    \"\"\"Main function\"\"\"\n",
        "    communicate = edge_tts.Communicate(TEXT, VOICE)\n",
        "    await communicate.save(OUTPUT_FILE)\n",
        "\n",
        "\n",
        "if __name__ == \"__main__\":\n",
        "    asyncio.run(amain())  # Use asyncio.run for a simpler way to run async functions"
      ]
    },
    {
      "cell_type": "code",
      "source": [],
      "metadata": {
        "id": "XLGtuKhc8U52"
      },
      "execution_count": null,
      "outputs": []
    },
    {
      "cell_type": "code",
      "source": [
        "! ls -lrt\n"
      ],
      "metadata": {
        "colab": {
          "base_uri": "https://localhost:8080/"
        },
        "id": "CbqQRrVa7n8f",
        "outputId": "61cf0282-0629-431e-daff-ee4035cc2f02"
      },
      "execution_count": 7,
      "outputs": [
        {
          "output_type": "stream",
          "name": "stdout",
          "text": [
            "total 16\n",
            "drwxr-xr-x 1 root root  4096 Sep 18 13:37 sample_data\n",
            "-rw-r--r-- 1 root root 11664 Sep 20 09:35 test.mp3\n"
          ]
        }
      ]
    }
  ]
}